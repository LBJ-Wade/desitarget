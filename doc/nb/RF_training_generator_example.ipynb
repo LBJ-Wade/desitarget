{
 "cells": [
  {
   "cell_type": "markdown",
   "metadata": {},
   "source": [
    "# Random Forest Training for QSO targets selection\n",
    "\n",
    "**Author:** Edmond Chaussidon (CEA Saclay) (contact: edmond.chaussidon@cea.fr)\n",
    "\n",
    "This notebook explains how the random forest files (for the targets selection) are generated. To have a brief overview of the QSO targets selection and an interpretability of this selection, see `qso-dr8.ipynb` notebook written for DR8s release (however no major changes are expected with DR9 !)\n",
    "\n",
    "All the file are written and saved in NERSC : `/global/cfs/cdirs/desi/target/analysis/RF`\n",
    "\n",
    "**/!\\** **WARNING** This notebook had generated files in NERSC !! **PLEASE** change path and savename to don't overwritte data or be sure to keep alive the current files. **/!\\**\n",
    "\n",
    "The training is divided in three parts :\n",
    "    \n",
    "    * 1) data_collection : collect data from dr9 (match sdss with dr9)\n",
    "    * 2) data_preparation : build atributes for RF\n",
    "    * 3) train_test_RF : training and some tests\n",
    "\n",
    "**Remark:** The first part is time consumming and already saved in : `/global/cfs/cdirs/desi/target/analysis/RF/`\n",
    "\n",
    "**UPDATE:** We add quasars from VI in the training!\n"
   ]
  },
  {
   "cell_type": "code",
   "execution_count": null,
   "metadata": {},
   "outputs": [],
   "source": [
    "DIR = '/global/cfs/cdirs/desi/target/analysis/RF/'\n",
    "\n",
    "from pathlib import Path\n",
    "path_train = f'{Path().absolute()}/../../py/desitarget/train/'"
   ]
  },
  {
   "cell_type": "markdown",
   "metadata": {},
   "source": [
    "-------\n",
    "## 1.1)  data_collection\n",
    "\n",
    "**WARNING:** This part is time consuming...\n",
    "\n",
    "**REMARK:** Not necessary to run this section for the training if the files are existing in DIR **/!\\** "
   ]
  },
  {
   "cell_type": "code",
   "execution_count": null,
   "metadata": {},
   "outputs": [],
   "source": [
    "from desitarget.train.data_collection.sweep_meta import sweep_meta\n",
    "\n",
    "sweep_meta('dr9s', f'{DIR}dr9s_sweep_meta.fits')\n",
    "sweep_meta('dr9n', f'{DIR}dr9n_sweep_meta.fits')"
   ]
  },
  {
   "cell_type": "markdown",
   "metadata": {},
   "source": [
    "* Add your version of topcat in my_tractor_extract_batch.py :\n",
    "\n",
    "    `STILTSCMD = 'java -jar -Xmx4096M /global/homes/e/edmondc/Software/topcat/topcat-full.jar -stilts'`\n",
    "    \n",
    "* If you want a version of topcat go [here](`http://www.star.bris.ac.uk/~mbt/topcat/`).\n"
   ]
  },
  {
   "cell_type": "code",
   "execution_count": null,
   "metadata": {},
   "outputs": [],
   "source": [
    "#from desitarget.train.data_collection.my_tractor_extract_batch import my_tractor_extract_batch\n",
    "\n",
    "#collect QSO sample\n",
    "#my_tractor_extract_batch(16, f'{DIR}QSO_DR9s_sdss.fits', 'dr9s', '0,360,-10,30', 'qso', path_train, DIR)"
   ]
  },
  {
   "cell_type": "code",
   "execution_count": null,
   "metadata": {},
   "outputs": [],
   "source": [
    "#collect stars sample\n",
    "#my_tractor_extract_batch(4, f'{DIR}STARS_DR9s.fits', 'dr9s', '320,345,-1.25,1.25', 'stars', path_train, DIR)"
   ]
  },
  {
   "cell_type": "code",
   "execution_count": null,
   "metadata": {},
   "outputs": [],
   "source": [
    "#collect test sample \n",
    "#my_tractor_extract_batch(4, f'{DIR}TEST_DR9s.fits', 'dr9s', '30,45,-5,5', 'test', path_train, DIR)"
   ]
  },
  {
   "cell_type": "markdown",
   "metadata": {},
   "source": [
    "## 1.2) Add QSOs from VI\n",
    "\n",
    "    * We match VI quasars with DR9 photometry\n",
    "    * We add ALL quasars on the catalog (don't check if they are in the test zone --> they will be removed in the next step!)\n",
    "    * We add VI quasars which are in the test zone into the Test file"
   ]
  },
  {
   "cell_type": "code",
   "execution_count": null,
   "metadata": {},
   "outputs": [],
   "source": [
    "from desitarget.train.data_collection.QSOs_from_VI import extract_qsos_from_vi, sdss_vi_merger\n",
    "\n",
    "DIR = '/global/cfs/cdirs/desi/target/analysis/RF/'\n",
    "\n",
    "vi_catalog_list = [f'{DIR}QSO_cascade_V1.fits']\n",
    "output_path = f'{DIR}QSO_DR9s_VI.fits'\n",
    "\n",
    "extract_qsos_from_vi(vi_catalog_list, output_path)"
   ]
  },
  {
   "cell_type": "code",
   "execution_count": null,
   "metadata": {},
   "outputs": [],
   "source": [
    "from desitarget.train.data_collection.QSOs_from_VI import sdss_vi_merger\n",
    "\n",
    "file_sdss = f'{DIR}QSO_DR9s_SDSS.fits'\n",
    "file_VI = f'{DIR}QSO_DR9s_VI.fits'\n",
    "\n",
    "output = f'{DIR}QSO_DR9s.fits'\n",
    "\n",
    "test_zones = [[30, 45, -5, 5], [80, 90, -25, -15]]\n",
    "\n",
    "sdss_vi_merger(file_sdss, file_VI, output, test_zones)"
   ]
  },
  {
   "cell_type": "code",
   "execution_count": null,
   "metadata": {},
   "outputs": [],
   "source": [
    "from desitarget.train.data_collection.QSOs_from_VI import add_qso_vi_test\n",
    "\n",
    "file_test = f'{DIR}TEST_DR9s.fits'\n",
    "file_VI = f'{DIR}QSO_DR9s_VI.fits'\n",
    "\n",
    "output = f'{DIR}TEST_DR9s_final.fits'\n",
    "\n",
    "test_zones = [[30, 45, -5, 5], [80, 90, -25, -15]]\n",
    "\n",
    "add_qso_vi_test(file_test, file_VI, output, test_zones)"
   ]
  },
  {
   "cell_type": "markdown",
   "metadata": {},
   "source": [
    "--------\n",
    "## 2) data_preparation "
   ]
  },
  {
   "cell_type": "markdown",
   "metadata": {},
   "source": [
    "**Remark :** We remove test region from training data in *data_preparation/Code/make_training_samples.py* (it is **hard coding**)  for the region 30<RA<45 & -5<DEC<5. \n",
    "\n",
    "**/!\\** **Take CARE** if you don't use this region for the test_sample **/!\\**"
   ]
  },
  {
   "cell_type": "code",
   "execution_count": null,
   "metadata": {},
   "outputs": [],
   "source": [
    "DIR = '/global/cfs/cdirs/desi/target/analysis/RF/'\n",
    "\n",
    "from desitarget.train.data_preparation.make_training_samples import make_training_samples\n",
    "\n",
    "#range in r mag for the training and test sample : 17.5 <--> max_rmag\n",
    "max_rmag = 23.2\n",
    "\n",
    "# Need to find a balance between acceptable errors in the measured data and good representativeness of the photometric scattering inherent to QSO.\n",
    "# (cf mail exchange with Christophe and Nathalie)\n",
    "# Ratio = QSO_data.FLUX_R * np.sqrt(QSO_data.FLUX_IVAR_R)\n",
    "# 0.2 ==> ratio=5 | 0.1 ==> ratio=10 | 0.02 ==> ratio=50\n",
    "QSO_MAX_MAG_ERR_LEVEL = 0.1\n",
    "\n",
    "#changer nom qso sample for training\n",
    "make_training_samples(f'{DIR}QSO_DR9s.fits', f'{DIR}STARS_DR9s.fits', f'{DIR}QSO_TrainingSample_DR9s.fits', f'{DIR}STARS_TrainingSample_DR9s.fits', f'{DIR}STARS_TrainingSample_Highz_DR9s.fits', max_rmag, QSO_MAX_MAG_ERR_LEVEL)"
   ]
  },
  {
   "cell_type": "code",
   "execution_count": null,
   "metadata": {},
   "outputs": [],
   "source": [
    "from desitarget.train.data_preparation.make_test_sample import make_test_sample\n",
    "\n",
    "#un peu long\n",
    "make_test_sample(f'{DIR}TEST_DR9s_final.fits', f'{DIR}TestSample_DR9s.fits', max_rmag=23.0)"
   ]
  },
  {
   "cell_type": "markdown",
   "metadata": {},
   "source": [
    "------\n",
    "## 3) train_test_RF\n"
   ]
  },
  {
   "cell_type": "code",
   "execution_count": null,
   "metadata": {},
   "outputs": [],
   "source": [
    "from pathlib import Path\n",
    "path_train = f'{Path().absolute()}/../../py/desitarget/train/'\n",
    "\n",
    "DIR = '/global/cfs/cdirs/desi/target/analysis/RF/'\n",
    "\n",
    "max_rmag = 23.2\n",
    "\n",
    "print(\"[WARNING] DO 2 BEFORE 3 !!!\")"
   ]
  },
  {
   "cell_type": "code",
   "execution_count": null,
   "metadata": {},
   "outputs": [],
   "source": [
    "#Pipeline Congifuration (to generate RF with different hyperparameters)\n",
    "from desitarget.train.train_test_RF.PipelineConfigScript import PipelineConfigScript\n",
    "\n",
    "fpn_STARS_TrainingSample = f\"{DIR}STARS_TrainingSample_DR9s.fits\"\n",
    "fpn_STARS_TrainingSample_Highz = f\"{DIR}STARS_TrainingSample_Highz_DR9s.fits\"\n",
    "fpn_QSO_TrainingSample = f\"{DIR}QSO_TrainingSample_DR9s.fits\"\n",
    "fpn_TestSample = f\"{DIR}TestSample_DR9s.fits\"\n",
    "fpn_QLF = f\"{path_train}data_preparation/ROSS4_tabR\"\n",
    "\n",
    "suffixe = '_final_ratio10'\n",
    "fpn_config = f\"{DIR}config{suffixe}.npz\"\n",
    "\n",
    "PipelineConfigScript(fpn_QSO_TrainingSample, fpn_STARS_TrainingSample, fpn_STARS_TrainingSample_Highz, fpn_TestSample, fpn_QLF, fpn_config, max_rmag=max_rmag, suffixe=suffixe)"
   ]
  },
  {
   "cell_type": "code",
   "execution_count": null,
   "metadata": {},
   "outputs": [],
   "source": [
    "#Random Forest training\n",
    "from desitarget.train.train_test_RF.train_RF import train_RF\n",
    "\n",
    "#RF all-z training\n",
    "train_RF(f'{DIR}config{suffixe}.npz', 'DR9s_LOW', f'{DIR}RFmodel/DR9s_LOW')"
   ]
  },
  {
   "cell_type": "code",
   "execution_count": null,
   "metadata": {},
   "outputs": [],
   "source": [
    "#RF Highz training\n",
    "train_RF(f'{DIR}config{suffixe}.npz', 'DR9s_HighZ', f'{DIR}RFmodel/DR9s_HighZ')"
   ]
  },
  {
   "cell_type": "code",
   "execution_count": null,
   "metadata": {},
   "outputs": [],
   "source": [
    "#Sklearn to desitarget format\n",
    "from desitarget.train.train_test_RF.Convert_to_DESI_RF import convert_and_save_to_desi \n",
    "\n",
    "RF_filename_input = f\"{DIR}RFmodel/DR9s_LOW/model_DR9s_LOW_z[0.0, 6.0]_MDepth25_MLNodes850_nTrees500{suffixe}.pkl.gz\"\n",
    "RF_filename_output = f\"{DIR}RFmodel_desitarget/rf_model_dr9{suffixe}.npz\"\n",
    "convert_and_save_to_desi(RF_filename_input, RF_filename_output)\n",
    "\n",
    "RF_HighZ_filename_input = f\"{DIR}RFmodel/DR9s_HighZ/model_DR9s_HighZ_z[3.2, 6.0]_MDepth25_MLNodes850_nTrees500{suffixe}.pkl.gz\"\n",
    "RF_HighZ_filename_output = f\"{DIR}RFmodel_desitarget/rf_model_dr9_HighZ{suffixe}.npz\"\n",
    "convert_and_save_to_desi(RF_HighZ_filename_input, RF_HighZ_filename_output)"
   ]
  },
  {
   "cell_type": "markdown",
   "metadata": {},
   "source": [
    "------------\n",
    "## 4) Some tests \n",
    "\n",
    "    * Plot for completeness, importance feature ect ...\n",
    "    * enable also to tune the threshold selection :) "
   ]
  },
  {
   "cell_type": "code",
   "execution_count": null,
   "metadata": {},
   "outputs": [],
   "source": [
    "#plot only for one training\n",
    "\n",
    "from desitarget.train.train_test_RF.Some_tests import make_some_tests_and_plots\n",
    "\n",
    "suffixe = '_final_ratio10'\n",
    "\n",
    "inputFile = f'{DIR}TestSample_DR9s.fits'\n",
    "RF_file = f'{DIR}RFmodel/DR9s_LOW/model_DR9s_LOW_z[0.0, 6.0]_MDepth25_MLNodes850_nTrees500{suffixe}.pkl.gz'\n",
    "RF_Highz_file = f'{DIR}RFmodel/DR9s_HighZ/model_DR9s_HighZ_z[3.2, 6.0]_MDepth25_MLNodes850_nTrees500{suffixe}.pkl.gz'\n",
    "\n",
    "make_some_tests_and_plots(inputFile, RF_file, RF_Highz_file, rmax=23.0)"
   ]
  },
  {
   "cell_type": "code",
   "execution_count": null,
   "metadata": {},
   "outputs": [],
   "source": [
    "#plot to compare two differents training\n",
    "\n",
    "from desitarget.train.train_test_RF.Some_tests import make_some_tests_and_plots_2_training\n",
    "\n",
    "DIR = '/global/cfs/cdirs/desi/target/analysis/RF/'\n",
    "\n",
    "inputFile = f'{DIR}TestSample_DR9s_old.fits'\n",
    "\n",
    "suffixe = '_final_ratio10'\n",
    "RF_file = f'{DIR}RFmodel/DR9s_LOW/model_DR9s_LOW_z[0.0, 6.0]_MDepth25_MLNodes850_nTrees500{suffixe}.pkl.gz'\n",
    "RF_Highz_file = f'{DIR}RFmodel/DR9s_HighZ/model_DR9s_HighZ_z[3.2, 6.0]_MDepth25_MLNodes850_nTrees500{suffixe}.pkl.gz'\n",
    "#ut = [0.74, 0.05, 22.5, 0.95]\n",
    "cut = [0.8, 0.05, 20.5, 1.0]\n",
    "\n",
    "suffixe = '_final_ratio10_Wcut'\n",
    "RF_file_2 = f'{DIR}RFmodel/DR9s_LOW/model_DR9s_LOW_z[0.0, 6.0]_MDepth25_MLNodes850_nTrees500{suffixe}.pkl.gz'\n",
    "RF_Highz_file_2 = f'{DIR}RFmodel/DR9s_HighZ/model_DR9s_HighZ_z[3.2, 6.0]_MDepth25_MLNodes850_nTrees500{suffixe}.pkl.gz'\n",
    "cut2 = [0.70, 0.05, 20.5, 1.0]\n",
    "\n",
    "make_some_tests_and_plots_2_training(inputFile, RF_file, RF_Highz_file, RF_file_2, RF_Highz_file_2, cut, cut2, r_mag_max_sel=23.0, surface_vi=False, save=False, label1='Without W wut', label2='With W cut')"
   ]
  },
  {
   "cell_type": "code",
   "execution_count": null,
   "metadata": {},
   "outputs": [],
   "source": [
    "#plot to compare to desitarget\n",
    "\n",
    "from desitarget.train.train_test_RF.Some_tests import new_training_versus_desitarget\n",
    "\n",
    "DIR = '/global/cfs/cdirs/desi/target/analysis/RF/'\n",
    "\n",
    "suffixe = '_final_ratio10'\n",
    "\n",
    "inputFile = f'{DIR}TestSample_DR9s_old.fits'\n",
    "\n",
    "RF_file = f'{DIR}RFmodel/DR9s_LOW/model_DR9s_LOW_z[0.0, 6.0]_MDepth25_MLNodes850_nTrees500{suffixe}.pkl.gz'\n",
    "RF_Highz_file = f'{DIR}RFmodel/DR9s_HighZ/model_DR9s_HighZ_z[3.2, 6.0]_MDepth25_MLNodes850_nTrees500{suffixe}.pkl.gz'\n",
    "\n",
    "cut = [0.70, 0.05, 20.5, 1.0]\n",
    "\n",
    "new_training_versus_desitarget(inputFile, RF_file, RF_Highz_file, cut=cut, r_mag_max_sel=23.0, surface_vi=False)"
   ]
  },
  {
   "cell_type": "markdown",
   "metadata": {},
   "source": [
    "--------------\n",
    "\n",
    "## FREE SPACE :\n",
    "\n",
    "--------------\n",
    "\n",
    "We derive here the cut from a tmp targets selection done with weak cuts"
   ]
  },
  {
   "cell_type": "code",
   "execution_count": null,
   "metadata": {},
   "outputs": [],
   "source": [
    "import numpy as np\n",
    "import fitsio\n",
    "import healpy as hp\n",
    "import matplotlib.pyplot as plt\n",
    "\n",
    "from plot import plot_cart, plot_moll\n",
    "\n",
    "from desitarget.myRF import myRF\n",
    "from desitarget.cuts import shift_photo_north\n",
    "from desitarget.geomask import hp_in_box\n",
    "from pkg_resources import resource_filename\n",
    "\n",
    "import matplotlib.pyplot as plt\n",
    "%matplotlib inline\n",
    "plt.style.use('/global/homes/e/edmondc/Software/desi_ec/ec_style.mplstyle')\n",
    "\n",
    "#Y a une fonction dans desiarget pour le faire mais ok on perd pas de temps\n",
    "pathToRF = '/global/homes/e/edmondc/Software/desitarget/py/desitarget/data'\n",
    "\n",
    "# number of variables\n",
    "nfeatures = 11\n",
    "\n",
    "#------------------------------------------------------------------------------#\n",
    "# Usefull fonction\n",
    "\n",
    "def magsExtFromFlux(dataArray, show=False):\n",
    "    gflux  = dataArray['FLUX_G'][:]/dataArray['MW_TRANSMISSION_G'][:]\n",
    "    rflux  = dataArray['FLUX_R'][:]/dataArray['MW_TRANSMISSION_R'][:]\n",
    "    zflux  = dataArray['FLUX_Z'][:]/dataArray['MW_TRANSMISSION_Z'][:]\n",
    "    W1flux  = dataArray['FLUX_W1'][:]/dataArray['MW_TRANSMISSION_W1'][:]\n",
    "    W2flux  = dataArray['FLUX_W2'][:]/dataArray['MW_TRANSMISSION_W2'][:]\n",
    "    \n",
    "    W1flux[np.isnan(W1flux)]=0.\n",
    "    W2flux[np.isnan(W2flux)]=0.\n",
    "    gflux[np.isnan(gflux)]=0.\n",
    "    rflux[np.isnan(rflux)]=0.\n",
    "    zflux[np.isnan(zflux)]=0.\n",
    "    W1flux[np.isinf(W1flux)]=0.\n",
    "    W2flux[np.isinf(W2flux)]=0.\n",
    "    gflux[np.isinf(gflux)]=0.\n",
    "    rflux[np.isinf(rflux)]=0.\n",
    "    zflux[np.isinf(zflux)]=0.\n",
    "    \n",
    "        \n",
    "    is_north = (dataArray['DEC'][:] >= 32) & (dataArray['RA'][:] >= 60) & (dataArray['RA'][:] <= 310)\n",
    "    print(f'shift photometry for {is_north.sum()} objects')\n",
    "    if show:\n",
    "        plt.figure()\n",
    "        plt.hist(gflux[is_north], bins=100, range=(0, 50), label='not shifted')\n",
    "    gflux[is_north], rflux[is_north], zflux[is_north] = shift_photo_north(gflux[is_north], rflux[is_north], zflux[is_north])\n",
    "    if show:\n",
    "        plt.hist(gflux[is_north], bins=100, range=(0, 50), label='shifted')\n",
    "        plt.legend()\n",
    "        plt.show()\n",
    "\n",
    "    g=np.where( gflux>0,22.5-2.5*np.log10(gflux), 0.)\n",
    "    r=np.where( rflux>0,22.5-2.5*np.log10(rflux), 0.)\n",
    "    z=np.where( zflux>0,22.5-2.5*np.log10(zflux), 0.)\n",
    "    W1=np.where( W1flux>0, 22.5-2.5*np.log10(W1flux), 0.)\n",
    "    W2=np.where( W2flux>0, 22.5-2.5*np.log10(W2flux), 0.)\n",
    "\n",
    "    g[np.isnan(g)]=0.\n",
    "    g[np.isinf(g)]=0.\n",
    "    r[np.isnan(r)]=0.\n",
    "    r[np.isinf(r)]=0.\n",
    "    z[np.isnan(z)]=0.\n",
    "    z[np.isinf(z)]=0.\n",
    "    W1[np.isnan(W1)]=0.\n",
    "    W1[np.isinf(W1)]=0.\n",
    "    W2[np.isnan(W2)]=0.\n",
    "    W2[np.isinf(W2)]=0.\n",
    "    \n",
    "    return g, r, z, W1, W2\n",
    "\n",
    "def colors(nbEntries, nfeatures, g, r, z, W1, W2):\n",
    "    colors = np.zeros((nbEntries,nfeatures))\n",
    "\n",
    "    colors[:,0] = g-r\n",
    "    colors[:,1] = r-z\n",
    "    colors[:,2] = g-z\n",
    "    colors[:,3] = g-W1\n",
    "    colors[:,4] = r-W1\n",
    "    colors[:,5] = z-W1\n",
    "    colors[:,6] = g-W2\n",
    "    colors[:,7] = r-W2\n",
    "    colors[:,8] = z-W2\n",
    "    colors[:,9] = W1-W2\n",
    "    colors[:,10] = r\n",
    "\n",
    "    return colors\n",
    "\n",
    "def compute_proba(sample):\n",
    "    object_g, object_r ,object_z ,object_W1 ,object_W2 = magsExtFromFlux(sample)\n",
    "    attributes = colors(object_g.size, nfeatures, object_g, object_r, object_z, object_W1, object_W2)\n",
    "\n",
    "    rf_fileName = pathToRF + f'/rf_model_dr9_final.npz'\n",
    "   # rf_Highz_fileName = pathToRF + f'/rf_model_dr9_HighZ.npz'\n",
    "\n",
    "    print('Load Old Random Forest : ')\n",
    "    print('    * ' + rf_fileName)\n",
    "   #print('    * ' + rf_Highz_fileName)\n",
    "    print('Random Forest over : ', len(attributes),' objects\\n')\n",
    "\n",
    "    print('    * start first RF calculation...')\n",
    "    myrf =  myRF(attributes, pathToRF, numberOfTrees=500, version=2)\n",
    "    myrf.loadForest(rf_fileName)\n",
    "    proba_rf = myrf.predict_proba()\n",
    "\n",
    "    #print('    * start second RF calculation...')\n",
    "    #myrf_Highz =  myRF(attributes,pathToRF, numberOfTrees=500, version=2)\n",
    "    #myrf_Highz.loadForest(rf_Highz_fileName)\n",
    "    #proba_Highz_rf = myrf_Highz.predict_proba()\n",
    "\n",
    "    return proba_rf#, proba_Highz_rf\n",
    "\n",
    "def give_footprint(dataArray):\n",
    "    \n",
    "    is_north = (dataArray['DEC'][:] >= 32.2) &\\\n",
    "               (dataArray['RA'][:] >= 60) &\\\n",
    "               (dataArray['RA'][:] <= 310)\n",
    "    \n",
    "    is_des = (dataArray['NOBS_G'][:] > 4) &\\\n",
    "         (dataArray['NOBS_R'][:] > 4) &\\\n",
    "         (dataArray['NOBS_Z'][:] > 4) &\\\n",
    "         ((dataArray['RA'][:] >= 320) | (dataArray['RA'][:] <= 100)) &\\\n",
    "         (dataArray['DEC'][:] <= 10)\n",
    "    \n",
    "    is_south = (dataArray['DEC'][:] < 50) & ~is_des & ~is_north\n",
    "    \n",
    "    print(is_north.sum() + is_south.sum() + is_des.sum())\n",
    "    print(is_north.size)\n",
    "    \n",
    "    return is_north, is_south, is_des\n",
    "\n",
    "def build_pixmap(dataArray, Nside):\n",
    "    pixmap = np.zeros(hp.nside2npix(Nside))\n",
    "\n",
    "    ra, dec = dataArray['RA'][:], dataArray['DEC'][:]\n",
    "\n",
    "    pixels = hp.ang2pix(Nside, ra, dec, nest=True, lonlat=True)\n",
    "    pix, counts = np.unique(pixels, return_counts=True)\n",
    "    pixmap[pix] = counts\n",
    "    \n",
    "    return pixmap"
   ]
  },
  {
   "cell_type": "code",
   "execution_count": null,
   "metadata": {},
   "outputs": [],
   "source": [
    "Nside = 256\n",
    "\n",
    "read_temp = fitsio.FITS(f'/global/homes/e/edmondc/Systematics/regressor/Data/photometry_footprint_dr9_{Nside}.fits')[1]\n",
    "north = read_temp['ISNORTH'][:]\n",
    "\n",
    "south = read_temp['ISSOUTH'][:] & ~read_temp['ISDES'][:]\n",
    "#south[hp_in_box(Nside, [0, 360, 32, 90], inclusive=True)] = False\n",
    "des = read_temp['ISDES'][:]\n",
    "footprint = north | south | des\n",
    "\n",
    "is_north, is_south, is_des = give_footprint(data)\n",
    "\n",
    "#just to check if our footprint works\n",
    "\n",
    "#north = build_pixmap(data[:][is_north], Nside)\n",
    "#plot_moll(north/hp.nside2pixarea(Nside, degrees=True), max=500)\n",
    "#south = build_pixmap(data[:][is_south], Nside)\n",
    "#plot_moll(south/hp.nside2pixarea(Nside, degrees=True), max=500)\n",
    "#des = build_pixmap(data[:][is_des], Nside)\n",
    "#plot_moll(des/hp.nside2pixarea(Nside, degrees=True), max=500)\n",
    "\n",
    "data = fitsio.FITS('/global/homes/e/edmondc/Scratch/SHARE/total-targets-qso-dr9-final-tmp.fits')[1]\n",
    "\n",
    "#proba_rf = compute_proba(data)\n",
    "#np.save('/global/homes/e/edmondc/Scratch/SHARE/proba-tmp.npy', proba_rf)\n",
    "\n",
    "proba_rf = np.load('/global/homes/e/edmondc/Scratch/SHARE/proba-tmp.npy')\n",
    "g, r, z, W1, W2 = magsExtFromFlux(data)"
   ]
  },
  {
   "cell_type": "code",
   "execution_count": null,
   "metadata": {},
   "outputs": [],
   "source": [
    "pcut = np.zeros(is_north.size)\n",
    "\n",
    "pcut[is_north] = 0.88 - 0.04*np.tanh(r[is_north] - 20.5)\n",
    "pcut[is_south] = 0.84 - 0.04*np.tanh(r[is_south] - 20.5)\n",
    "pcut[is_des] = 0.70 - 0.05*np.tanh(r[is_des] - 20.5)\n",
    "\n",
    "sel = (proba_rf >= pcut) & (W1 <= 22.3) & (W2 <= 22.3)\n",
    "\n",
    "print(sel.sum()/sel.size)"
   ]
  },
  {
   "cell_type": "code",
   "execution_count": null,
   "metadata": {},
   "outputs": [],
   "source": [
    "targets = build_pixmap(data[:][sel], Nside)\n",
    "targets /= hp.nside2pixarea(Nside, degrees=True)\n",
    "targets[~footprint] = np.NaN\n",
    "\n",
    "plot_moll(targets, min=0, max=400)\n",
    "plot_moll(hp.ud_grade(targets, 64, order_in='NESTED'), min=0, max=400)\n",
    "\n",
    "tt = build_pixmap(data[:][sel & (r > 22.7)], Nside)\n",
    "tt /= hp.nside2pixarea(Nside, degrees=True)\n",
    "tt[~footprint] = np.NaN\n",
    "\n",
    "plot_moll(hp.ud_grade(tt, 64, order_in='NESTED'), max=100)"
   ]
  },
  {
   "cell_type": "code",
   "execution_count": null,
   "metadata": {},
   "outputs": [],
   "source": [
    "zone_test_1 = hp_in_box(256, [120, 240, 32.2, 40], inclusive=True)\n",
    "zone_test_2 = hp_in_box(256, [120, 240, 24, 32.2], inclusive=True)\n",
    "\n",
    "print(f\"NORTH --->  MEAN : {np.nanmean(targets[north])} | MEDIAN = {np.nanmedian(targets[north])}\")\n",
    "print(f\"SOUTH --->  MEAN : {np.nanmean(targets[south])} | MEDIAN = {np.nanmedian(targets[south])}\")\n",
    "print(f\"DES --->  MEAN : {np.nanmean(targets[des])} | MEDIAN = {np.nanmedian(targets[des])}\")\n",
    "\n",
    "print(f\"ZONE_NORTH --->  MEAN : {np.nanmean(targets[zone_test_1])} | MEDIAN = {np.nanmedian(targets[zone_test_1])}\")\n",
    "print(f\"ZONE_SOUTH --->  MEAN : {np.nanmean(targets[zone_test_2])} | MEDIAN = {np.nanmedian(targets[zone_test_2])}\")\n",
    "\n",
    "plt.figure(figsize=(8,8))\n",
    "plt.hist(targets[des], bins=26, range=(100,600), color='red', alpha=0.7, density=True, label='Des')\n",
    "plt.hist(targets[north], bins=26, range=(100,600), color='blue', alpha=0.7, density=True, label='North')\n",
    "plt.hist(targets[south], bins=26, range=(100,600), color='green', alpha=0.7, density=True, label='South')\n",
    "plt.legend()\n",
    "plt.grid(True, ls=':', alpha=0.8)\n",
    "#plt.savefig(\"Res/explore/hist_after_correction.pdf\")"
   ]
  },
  {
   "cell_type": "code",
   "execution_count": null,
   "metadata": {},
   "outputs": [],
   "source": [
    "targets_to_save = build_pixmap(data[:][sel], Nside)\n",
    "#np.save(path, targets_to_save)\n",
    "\n",
    "#pour les cuts dans regressor\n",
    "plt.figure()\n",
    "plt.hist(targets_to_save[footprint], bins=50, range=(0,50))\n",
    "plt.show()\n",
    "\n",
    "#data_to_save = data[:][sel]\n",
    "#fits = fitsio.FITS(path_fits, 'rw')\n",
    "#fits.write(data_to_save)"
   ]
  }
 ],
 "metadata": {
  "kernelspec": {
   "display_name": "desi_py3",
   "language": "python",
   "name": "desi_py3"
  },
  "language_info": {
   "codemirror_mode": {
    "name": "ipython",
    "version": 3
   },
   "file_extension": ".py",
   "mimetype": "text/x-python",
   "name": "python",
   "nbconvert_exporter": "python",
   "pygments_lexer": "ipython3",
   "version": "3.8.3"
  }
 },
 "nbformat": 4,
 "nbformat_minor": 4
}
